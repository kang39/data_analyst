{
 "cells": [
  {
   "cell_type": "markdown",
   "metadata": {},
   "source": [
    "# Question\n",
    "\n",
    "In Titanic Data, it contains demographics and passenger information from 891 of the 2224 passengers and crew on board the Titanic. In next cell, there are detail description of data from the source. My fundamental question have started from the survivors. Based on the survival data and each variable, the observation will be focused on the correlation of each factor, and how each variable has had affected the chance of survival in the incident. Specifically, variables such as ticket class, sex, age, and onboard family relationship are being analyzed in terms of survival. "
   ]
  },
  {
   "cell_type": "markdown",
   "metadata": {},
   "source": [
    "# Data Description\n",
    "\n",
    "\n",
    "### Data Dictionary (Variable, Definition, Key)\n",
    "\n",
    "| Variable   | Definition                                  | Key                                              |\n",
    "|------------|---------------------------------------------|--------------------------------------------------|\n",
    "| survival   | Survival                                    | 0 = No, 1 = Yes                                  |\n",
    "| pclass     | Ticket class                                | 1 = 1st, 2 = 2nd, 3 = 3rd                        |\n",
    "| sex        | Sex                                         |                                                  |\n",
    "| Age        | Age in years                                |                                                  |\n",
    "| sibsp      | # of siblings / spouses around the Titanic  |                                                  |\n",
    "| parch      | # of parents / children aboard the Titanic  |                                                  |\n",
    "| ticket     | Ticket number                               |                                                  |\n",
    "| fare       | Passenger fare                              |                                                  |\n",
    "| cabin      | Cabin number                                |                                                  |\n",
    "| embarked   | Port of Embarkation                         | C = Cherbourg, Q = Queenstown, S = Southampton   |\n",
    "\n",
    "### Variable Notes\n",
    "- pclass: A proxy for socio-economic status (SES)\n",
    "    - 1st = Upper\n",
    "    - 2nd = Middle\n",
    "    - 3rd = Lower\n",
    "\n",
    "- age: Age is fractional if less than 1. If the age is estimated, is it in the form of xx.5\n",
    "\n",
    "- sibsp: The dataset defines family relations in this way...\n",
    "    - Sibling = brother, sister, stepbrother, stepsister\n",
    "    - Spouse = husband, wife (mistresses and fiancés were ignored)\n",
    "\n",
    "- parch: The dataset defines family relations in this way...\n",
    "    - Parent = mother, father\n",
    "    - Child = daughter, son, stepdaughter, stepson\n",
    "        - Some children travelled only with a nanny, therefore parch=0 for them.\n",
    "\n",
    "Source From: https://www.kaggle.com/c/titanic/data"
   ]
  },
  {
   "cell_type": "markdown",
   "metadata": {},
   "source": [
    "# Data Wrangle"
   ]
  },
  {
   "cell_type": "code",
   "execution_count": 2,
   "metadata": {
    "collapsed": false
   },
   "outputs": [],
   "source": [
    "##Import pandas, numpy, matplotlib, seaborn, patches\n",
    "import pandas as pd\n",
    "import numpy as np\n",
    "import matplotlib.pyplot as plt\n",
    "import seaborn as sns\n",
    "import matplotlib.patches as mpatches"
   ]
  },
  {
   "cell_type": "code",
   "execution_count": 3,
   "metadata": {
    "collapsed": false,
    "scrolled": true
   },
   "outputs": [
    {
     "name": "stdout",
     "output_type": "stream",
     "text": [
      "Survived        891\n",
      "Ticket_Class    891\n",
      "dtype: int64\n"
     ]
    }
   ],
   "source": [
    "#Root file location\n",
    "filename = 'titanic-data.csv'\n",
    "\n",
    "#Retrieve csv file location and read csv file as Dataframe\n",
    "raw_df = pd.read_csv(filename)\n",
    "\n",
    "#Create a new dataframe with necessary information from the dataset\n",
    "titanic_df = pd.DataFrame({\n",
    "    'Ticket_Class': raw_df['Pclass'].values,\n",
    "    'Survived': raw_df['Survived'].values\n",
    "}, index=raw_df['PassengerId'])\n",
    "\n",
    "#Check the total of rows to match 891 passengers\n",
    "print(titanic_df.count())"
   ]
  },
  {
   "cell_type": "markdown",
   "metadata": {},
   "source": [
    "### Exploring Survivors with Ticket Classes"
   ]
  },
  {
   "cell_type": "code",
   "execution_count": 4,
   "metadata": {
    "collapsed": false,
    "scrolled": false
   },
   "outputs": [
    {
     "data": {
      "image/png": "[encoded data removed]",
      "text/plain": [
       "<matplotlib.figure.Figure at 0x84279d0>"
      ]
     },
     "metadata": {},
     "output_type": "display_data"
    }
   ],
   "source": [
    "%matplotlib inline\n",
    "\n",
    "#Group the data by the specific column and return the count of the dataset\n",
    "#Make a list based on that new grouped data for plotting\n",
    "total_by_classes = titanic_df.groupby('Ticket_Class').count()\n",
    "temp1 = list(total_by_classes.values.flatten())\n",
    "\n",
    "#Group the data by the specific column and return the count of the filtered dataset\n",
    "#Make a list based on that new grouped data for plotting\n",
    "survived_by_classes = titanic_df[titanic_df.Survived == 1].groupby('Ticket_Class').count()\n",
    "temp2 = list(survived_by_classes.values.flatten())\n",
    "\n",
    "#Group the data by the specific column and return the count of the filtered dataset\n",
    "#Make a list based on that new grouped data for plotting\n",
    "deceased_by_classes = titanic_df[titanic_df.Survived == 0].groupby('Ticket_Class').count()\n",
    "temp3 = list(deceased_by_classes.values.flatten())\n",
    "\n",
    "#Plot the bar graph\n",
    "xaxis = np.array([1, 2, 3]) #number of axis\n",
    "plt.xlabel('Ticket Classes')  #X-axis label\n",
    "plt.ylabel('Number of Passengers') #Y-axis label\n",
    "plt.title(\"Figure 1: Passengers in each Class\") #Chart title\n",
    "plt.xticks([1,2,3], ['1st Class', '2nd Class', '3rd Class']) #Rename the X-axis\n",
    "\n",
    "#Divide the current figure into an m-by-n grid\n",
    "#Plot the graph based on each list above\n",
    "ax = plt.subplot(111)\n",
    "ax.bar(xaxis-0.2, temp1, width=0.2, color ='b', align='center')\n",
    "ax.bar(xaxis, temp2, width=0.2, color ='g', align='center')\n",
    "ax.bar(xaxis+0.2, temp3, width=0.2, color ='r', align='center')\n",
    "\n",
    "#Insert legend with color coding for information\n",
    "blue_patch = mpatches.Patch(color='blue', label='Total Passengers')\n",
    "green_patch = mpatches.Patch(color='green', label='Survived')\n",
    "red_patch = mpatches.Patch(color='red', label='Deceased')\n",
    "plt.legend(loc = 'upper left', handles=[blue_patch, green_patch, red_patch])\n",
    "\n",
    "#Show the graph\n",
    "plt.show()"
   ]
  },
  {
   "cell_type": "code",
   "execution_count": 5,
   "metadata": {
    "collapsed": false,
    "scrolled": true
   },
   "outputs": [
    {
     "name": "stdout",
     "output_type": "stream",
     "text": [
      "              Total Passengers  Survived  Deceased\n",
      "Ticket_Class                                      \n",
      "1                          216       136        80\n",
      "2                          184        87        97\n",
      "3                          491       119       372\n",
      "              Total Passengers  Survived  Deceased\n",
      "Ticket_Class                                      \n",
      "1                        100.0     62.96     37.04\n",
      "2                        100.0     47.28     52.72\n",
      "3                        100.0     24.24     75.76\n"
     ]
    }
   ],
   "source": [
    "#Combine pre-existing table into a single table\n",
    "concat_tables_classes = pd.concat([total_by_classes, survived_by_classes, deceased_by_classes], axis=1)\n",
    "concat_tables_classes.columns = ['Total Passengers', 'Survived', 'Deceased']\n",
    "print(concat_tables_classes)\n",
    "\n",
    "#Define a function to convert a series to percentages\n",
    "def convert_percent(series):\n",
    "    return round((series / series.iloc[0]) * 100, 2)\n",
    "\n",
    "#Apply a function to each row\n",
    "df_classes_survival_ratio = concat_tables_classes.apply(convert_percent, axis = 1)\n",
    "print(df_classes_survival_ratio)"
   ]
  },
  {
   "cell_type": "markdown",
   "metadata": {},
   "source": [
    "### Observations from Different Ticket Classes"
   ]
  },
  {
   "cell_type": "markdown",
   "metadata": {},
   "source": [
    "Based on Figure 1 above, there are some noticeable observations related to ticket classes and survivor rates. More than half of passengers in the 1st class have survived from the incident. Compared to that, 3rd class passengers have shown much less survival rate compared to the first class. Also, red bar graphs that indicate the rate of deceased have shown a gradual increase as the ticket class changed from the 1st to 3rd. The percentages in the data frame proves this tendency (in df_classes_survival_ratio). \n",
    "\n",
    "Throughout the research, I have found different ways of performing statics tests in binary or categorical outcomes with proportions(in this case survival rate). According to Stanford University HRP258: Introduction to Probability and Statistics for Clinical Research by Kristin Sainani, it introduces several different ways such as Chi-square test, McNemar's chi-square, Relative risks, or Conditional logistic. Based on the decision tree in the lecture slides, my data seems to be independent result from three different groups(Ticket Classes). Furthermore, my data indicates different survival rates in different classes, so it fits the main purpose of chi-square test comparing proportions among three groups. \n",
    "\n",
    "Source From: \n",
    "1. web.stanford.edu/~kcobb/hrp258/lecture7.ppt\n",
    "2. https://en.wikipedia.org/wiki/Chi-squared_test\n",
    "3. https://en.wikipedia.org/wiki/Pearson%27s_chi-squared_test"
   ]
  },
  {
   "cell_type": "markdown",
   "metadata": {},
   "source": [
    "#### Chi-Square Test\n",
    "- To perform chi-square test, the overall survival rate should be calculated with all passengers of 891."
   ]
  },
  {
   "cell_type": "code",
   "execution_count": 6,
   "metadata": {
    "collapsed": false
   },
   "outputs": [],
   "source": [
    "#Apply a function to each column\n",
    "sum_classes_df = concat_tables_classes.apply(sum, axis=0)\n",
    "\n",
    "#Get the total values for each series to find overall rate\n",
    "total_passengers, survivors, deceased = sum_classes_df.iloc[0], sum_classes_df.iloc[1], sum_classes_df.iloc[2] \n",
    "overall_survival_rate = round(survivors / total_passengers, 2)\n",
    "overall_deceased_rate = round(deceased / total_passengers, 2)"
   ]
  },
  {
   "cell_type": "markdown",
   "metadata": {},
   "source": [
    "Before calculating chi-square as below, there should be some pre-works done such as calculating degree of freedom, and making hypothesis statements within the significance level.\n",
    "$$\\chi_{df}^2 = \\sum \\frac{(observed-expected)^2}{expected}$$\n",
    "\n",
    "\n",
    "- Degree of Freedom: Since the data set has three rows and two columns as below, the degree of freedom should be 2. \n",
    "    $$(number\\_ of\\_rows - 1)*(number\\_of\\_columns -1) = (3-1)*(2-1)=2$$\n",
    "\n",
    "| Ticket_Class | Deceased   | Survived   |\n",
    "|--------------|------------|------------|\n",
    "| 1.0          | 80         | 136        |\n",
    "| 2.0          | 97         | 87         |\n",
    "| 3.0          | 372        | 119        |\n",
    "\n",
    "With the degree of freedom, I need to find the critical value at 95% significance level. Based on the chi-square distribution table, the upper-tail critical values gives the value of 5.99 at 95% significance level. \n",
    "\n",
    "<img src=\"chi_sqaure_distribution_table.PNG\" />\n",
    "\n",
    "These are my hypothesis for the chi-squared test;\n",
    "\n",
    "- $H_0:$ The average survival rate of whole dataset (38%) will be similarly applied in different ticket classes respectively at 95% significance level. In other words, the difference in survival rates in each ticket class comparing with all passengers survival rate is not significantly different, but actually staying within the confidence intervals of whole passengers survival rate.\n",
    "\n",
    "\n",
    "- $H_A:$ The alternative hypothesis is the average survival rate of each ticket class will be different from the whole passengers survival rate at 95% significance level. In this case, the difference in survival rates in each class comparing with all passengers survival rate is significantly different. Hence, the causation of different ticket classes can affect the survival rate can be assumed. \n",
    "\n",
    "Source From: http://passel.unl.edu/Image/Namuth-CovertDeana956176274/chi-sqaure%20distribution%20table.PNG"
   ]
  },
  {
   "cell_type": "code",
   "execution_count": 7,
   "metadata": {
    "collapsed": false
   },
   "outputs": [
    {
     "name": "stdout",
     "output_type": "stream",
     "text": [
      "Ticket_Class\n",
      "1    57.130856\n",
      "2     6.729497\n",
      "3    39.480223\n",
      "dtype: float64\n",
      "\n",
      "The sum of chi-squared test: 103.34\n"
     ]
    }
   ],
   "source": [
    "#Define a function to calculate chi_square\n",
    "def chi_square(row):\n",
    "    total, survivor, deceased = map(lambda x: x, row)\n",
    "    sur = ((survivor - (total * 0.38))**2) / (total * 0.38)\n",
    "    dec = ((deceased - (total * 0.62))**2) / (total * 0.62)\n",
    "    return sur + dec\n",
    "\n",
    "#Apply a function to each row\n",
    "df_chi_square = concat_tables_classes.apply(chi_square, axis = 1)\n",
    "print(df_chi_square)\n",
    "print(\"\\nThe sum of chi-squared test:\", round(df_chi_square.sum(),2))\n"
   ]
  },
  {
   "cell_type": "markdown",
   "metadata": {},
   "source": [
    "### Finding from Survivors & Ticket Classes"
   ]
  },
  {
   "cell_type": "markdown",
   "metadata": {},
   "source": [
    "As a result, the sum of chi-squared test is 103.34 which is much greater than the upper-tail critical value 5.99 at 95% significance level. Therefore, it rejects the null hypothesis, so the the average survival rate of each ticket class will be significantly different from the whole passengers survival rate at 95% significance level. Based on this test result, three different ticket classes can cause different survival rate in the incident. In this case, the rate of survival tends to increase as the ticket class goes up from the thrid to first."
   ]
  },
  {
   "cell_type": "markdown",
   "metadata": {},
   "source": []
  },
  {
   "cell_type": "markdown",
   "metadata": {},
   "source": [
    "\n"
   ]
  },
  {
   "cell_type": "markdown",
   "metadata": {},
   "source": [
    "Perform with the sex\n",
    "perform with the age\n",
    "perform with the onboard family relationship(sib/parch)\n",
    "\n",
    "Based on the highest realtionship, Now I group them up with it then run the stat test.\n",
    "Provide heuristic and compare that with the real survival rate.\n"
   ]
  },
  {
   "cell_type": "markdown",
   "metadata": {},
   "source": [
    "Sex"
   ]
  },
  {
   "cell_type": "code",
   "execution_count": 8,
   "metadata": {
    "collapsed": false
   },
   "outputs": [
    {
     "name": "stdout",
     "output_type": "stream",
     "text": [
      "Sex         891\n",
      "Survived    891\n",
      "dtype: int64\n"
     ]
    }
   ],
   "source": [
    "#Create a new dataframe with necessary information from the dataset\n",
    "titanic_sex_df = pd.DataFrame({\n",
    "    'Sex': raw_df['Sex'].values,\n",
    "    'Survived': raw_df['Survived'].values\n",
    "}, index=raw_df['PassengerId'])\n",
    "\n",
    "#Check the total of rows to match 891 passengers\n",
    "print(titanic_sex_df.count())\n"
   ]
  },
  {
   "cell_type": "code",
   "execution_count": 46,
   "metadata": {
    "collapsed": false
   },
   "outputs": [
    {
     "data": {
      "image/png": "[encoded data removed]",
      "text/plain": [
       "<matplotlib.figure.Figure at 0x85f30d0>"
      ]
     },
     "metadata": {},
     "output_type": "display_data"
    }
   ],
   "source": [
    "%matplotlib inline\n",
    "\n",
    "#Group the data by the specific column and return the count of the dataset\n",
    "#Make a list based on that new grouped data for plotting\n",
    "total_by_sex = titanic_sex_df.groupby('Sex').count()\n",
    "temp1 = list(total_by_sex.values.flatten())\n",
    "\n",
    "#Group the data by the specific column and return the count of the filtered dataset\n",
    "#Make a list based on that new grouped data for plotting\n",
    "survived_by_sex = titanic_sex_df[titanic_sex_df.Survived == 1].groupby('Sex').count()\n",
    "temp2 = list(survived_by_sex.values.flatten())\n",
    "\n",
    "#Group the data by the specific column and return the count of the filtered dataset\n",
    "#Make a list based on that new grouped data for plotting\n",
    "deceased_by_sex = titanic_sex_df[titanic_sex_df.Survived == 0].groupby('Sex').count()\n",
    "temp3 = list(deceased_by_sex.values.flatten())\n",
    "\n",
    "#Plot the bar graph\n",
    "xaxis = np.array([1, 2]) #number of axis\n",
    "plt.xlabel('Sex')  #X-axis label\n",
    "plt.ylabel('Number of Passengers') #Y-axis label\n",
    "plt.title(\"Figure 2: Female & Male Passengers\") #Chart title\n",
    "plt.xticks([1,2], ['Female', 'Male']) #Rename the X-axis\n",
    "\n",
    "#Divide the current figure into an m-by-n grid\n",
    "#Plot the graph based on each list above\n",
    "ax = plt.subplot(111)\n",
    "ax.bar(xaxis-0.2, temp1, width=0.2, color ='b', align='center')\n",
    "ax.bar(xaxis, temp2, width=0.2, color ='g', align='center')\n",
    "ax.bar(xaxis+0.2, temp3, width=0.2, color ='r', align='center')\n",
    "\n",
    "#Insert legend with color coding for information\n",
    "blue_patch = mpatches.Patch(color='blue', label='Total Passengers')\n",
    "green_patch = mpatches.Patch(color='green', label='Survived')\n",
    "red_patch = mpatches.Patch(color='red', label='Deceased')\n",
    "plt.legend(loc = 'upper left', handles=[blue_patch, green_patch, red_patch])\n",
    "\n",
    "#Show the graph\n",
    "plt.show()\n"
   ]
  },
  {
   "cell_type": "code",
   "execution_count": 10,
   "metadata": {
    "collapsed": false
   },
   "outputs": [
    {
     "name": "stdout",
     "output_type": "stream",
     "text": [
      "        Total Passengers  Survived  Deceased\n",
      "Sex                                         \n",
      "female               314       233        81\n",
      "male                 577       109       468\n",
      "        Total Passengers  Survived  Deceased\n",
      "Sex                                         \n",
      "female             100.0     74.20     25.80\n",
      "male               100.0     18.89     81.11\n"
     ]
    }
   ],
   "source": [
    "#Combine pre-existing table into a single table\n",
    "concat_tables_sex = pd.concat([total_by_sex, survived_by_sex, deceased_by_sex], axis=1)\n",
    "concat_tables_sex.columns = ['Total Passengers', 'Survived', 'Deceased']\n",
    "print(concat_tables_sex)\n",
    "\n",
    "#Apply a function to each row\n",
    "df_sex_survival_ratio = concat_tables_sex.apply(convert_percent, axis = 1)\n",
    "print(df_sex_survival_ratio)\n"
   ]
  },
  {
   "cell_type": "code",
   "execution_count": 21,
   "metadata": {
    "collapsed": false
   },
   "outputs": [
    {
     "name": "stdout",
     "output_type": "stream",
     "text": [
      "Sex\n",
      "female    174.688049\n",
      "male       89.430339\n",
      "dtype: float64\n",
      "\n",
      "The sum of chi-squared test: 264.12\n"
     ]
    }
   ],
   "source": [
    "#Apply a function to each row\n",
    "df_chi_square_sex = concat_tables_sex.apply(chi_square, axis = 1)\n",
    "print(df_chi_square_sex)\n",
    "print(\"\\nThe sum of chi-squared test:\", round(df_chi_square_sex.sum(),2))"
   ]
  },
  {
   "cell_type": "markdown",
   "metadata": {},
   "source": []
  },
  {
   "cell_type": "markdown",
   "metadata": {},
   "source": [
    "Age"
   ]
  },
  {
   "cell_type": "code",
   "execution_count": 12,
   "metadata": {
    "collapsed": false
   },
   "outputs": [
    {
     "name": "stdout",
     "output_type": "stream",
     "text": [
      "Age         714\n",
      "Survived    891\n",
      "dtype: int64\n"
     ]
    }
   ],
   "source": [
    "#Create a new dataframe with necessary information from the dataset\n",
    "titanic_age_df = pd.DataFrame({\n",
    "    'Age': raw_df['Age'].values,\n",
    "    'Survived': raw_df['Survived'].values\n",
    "}, index=raw_df['PassengerId'])\n",
    "\n",
    "#Check the total of rows to match 891 passengers\n",
    "print(titanic_age_df.count())"
   ]
  },
  {
   "cell_type": "code",
   "execution_count": 69,
   "metadata": {
    "collapsed": false
   },
   "outputs": [
    {
     "data": {
      "image/png": "[encoded data removed]",
      "text/plain": [
       "<matplotlib.figure.Figure at 0x3f3350>"
      ]
     },
     "metadata": {},
     "output_type": "display_data"
    }
   ],
   "source": [
    "%matplotlib inline\n",
    "\n",
    "#Group the data by the specific column and return the count of the dataset\n",
    "#Make a list based on that new grouped data for plotting\n",
    "titanic_age_range_df = titanic_age_df.groupby(pd.cut(titanic_age_df['Age'], range(0, 90, 10))).count()\n",
    "age_by_range = titanic_age_range_df['Age'].values\n",
    "temp1 = list(age_by_range)\n",
    "\n",
    "#Group the data by the specific column and return the count of the filtered dataset\n",
    "#Make a list based on that new grouped data for plotting\n",
    "survived_age_filtered = titanic_age_df[titanic_age_df.Survived == 1]\n",
    "survived_filtered_age_range = survived_age_filtered.groupby(pd.cut(survived_age_filtered['Age'], range(0, 90, 10))).count()\n",
    "survived_age_by_range = survived_filtered_age_range['Age'].values\n",
    "temp2 = list(survived_age_by_range)\n",
    "\n",
    "#Group the data by the specific column and return the count of the filtered dataset\n",
    "#Make a list based on that new grouped data for plotting\n",
    "deceased_age_filtered = titanic_age_df[titanic_age_df.Survived == 0]\n",
    "deceased_filtered_age_range = deceased_age_filtered.groupby(pd.cut(deceased_age_filtered['Age'], range(0, 90, 10))).count()\n",
    "deceased_age_by_range = deceased_filtered_age_range['Age'].values\n",
    "temp3 = list(deceased_age_by_range)\n",
    "\n",
    "#Plot the bar graph\n",
    "xaxis = np.array([1, 2, 3, 4, 5, 6, 7, 8]) #number of axis\n",
    "plt.xlabel('Age Range')  #X-axis label\n",
    "plt.ylabel('Number of Passengers') #Y-axis label\n",
    "plt.title(\"Figure 3: Age Range of Passengers\") #Chart title\n",
    "plt.xticks([1,2,3,4,5,6,7,8], ['0 - 10', '10 - 20', '20 - 30', '30 - 40', '40 - 50', '50 - 60', \\\n",
    "                               '60 - 70', '70 - 80']) #Rename the X-axis\n",
    "\n",
    "#Divide the current figure into an m-by-n grid\n",
    "#Plot the graph based on each list above\n",
    "ax = plt.subplot(111)\n",
    "ax.bar(xaxis-0.2, temp1, width=0.2, color ='b', align='center')\n",
    "ax.bar(xaxis, temp2, width=0.2, color ='g', align='center')\n",
    "ax.bar(xaxis+0.2, temp3, width=0.2, color ='r', align='center')\n",
    "\n",
    "#Insert legend with color coding for information\n",
    "blue_patch = mpatches.Patch(color='blue', label='Total Passengers')\n",
    "green_patch = mpatches.Patch(color='green', label='Survived')\n",
    "red_patch = mpatches.Patch(color='red', label='Deceased')\n",
    "plt.legend(loc = 'upper right', handles=[blue_patch, green_patch, red_patch])\n",
    "\n",
    "#Show the graph\n",
    "plt.show()\n"
   ]
  },
  {
   "cell_type": "code",
   "execution_count": 70,
   "metadata": {
    "collapsed": false
   },
   "outputs": [
    {
     "name": "stdout",
     "output_type": "stream",
     "text": [
      "          Total Passengers  Survived  Deceased\n",
      "Age                                           \n",
      "(0, 10]                 64        38        26\n",
      "(10, 20]               115        44        71\n",
      "(20, 30]               230        84       146\n",
      "(30, 40]               155        69        86\n",
      "(40, 50]                86        33        53\n",
      "(50, 60]                42        17        25\n",
      "(60, 70]                17         4        13\n",
      "(70, 80]                 5         1         4\n",
      "          Total Passengers  Survived  Deceased\n",
      "Age                                           \n",
      "(0, 10]              100.0     59.38     40.62\n",
      "(10, 20]             100.0     38.26     61.74\n",
      "(20, 30]             100.0     36.52     63.48\n",
      "(30, 40]             100.0     44.52     55.48\n",
      "(40, 50]             100.0     38.37     61.63\n",
      "(50, 60]             100.0     40.48     59.52\n",
      "(60, 70]             100.0     23.53     76.47\n",
      "(70, 80]             100.0     20.00     80.00\n"
     ]
    }
   ],
   "source": [
    "#Combine pre-existing table into a single table\n",
    "concat_tables_age = pd.concat([titanic_age_range_df['Age'], survived_filtered_range['Age'], \\\n",
    "                               deceased_filtered_range['Age']], axis=1)\n",
    "concat_tables_age.columns = ['Total Passengers', 'Survived', 'Deceased']\n",
    "print(concat_tables_age)\n",
    "\n",
    "#Apply a function to each row\n",
    "df_age_survival_ratio = concat_tables_age.apply(convert_percent, axis = 1)\n",
    "print(df_age_survival_ratio)"
   ]
  },
  {
   "cell_type": "code",
   "execution_count": 71,
   "metadata": {
    "collapsed": false
   },
   "outputs": [
    {
     "name": "stdout",
     "output_type": "stream",
     "text": [
      "Age\n",
      "(0, 10]     12.411290\n",
      "(10, 20]     0.003322\n",
      "(20, 30]     0.213331\n",
      "(30, 40]     2.793417\n",
      "(40, 50]     0.005054\n",
      "(50, 60]     0.109306\n",
      "(60, 70]     1.510936\n",
      "(70, 80]     0.687606\n",
      "dtype: float64\n",
      "\n",
      "The sum of chi-squared test: 17.73\n"
     ]
    }
   ],
   "source": [
    "#Apply a function to each row\n",
    "df_chi_square_age = concat_tables_age.apply(chi_square, axis = 1)\n",
    "print(df_chi_square_age)\n",
    "print(\"\\nThe sum of chi-squared test:\", round(df_chi_square_age.sum(),2))"
   ]
  },
  {
   "cell_type": "markdown",
   "metadata": {},
   "source": [
    "Onboard - sib"
   ]
  },
  {
   "cell_type": "code",
   "execution_count": 72,
   "metadata": {
    "collapsed": false
   },
   "outputs": [
    {
     "name": "stdout",
     "output_type": "stream",
     "text": [
      "SibSp       891\n",
      "Survived    891\n",
      "dtype: int64\n"
     ]
    }
   ],
   "source": [
    "titanic_sibsp_df = pd.DataFrame({\n",
    "    'SibSp': raw_df['SibSp'].values,\n",
    "    'Survived': raw_df['Survived'].values\n",
    "}, index=raw_df['PassengerId'])\n",
    "\n",
    "#Check the total of rows to match 891 passengers\n",
    "print(titanic_sibsp_df.count())"
   ]
  },
  {
   "cell_type": "code",
   "execution_count": 81,
   "metadata": {
    "collapsed": false
   },
   "outputs": [
    {
     "data": {
      "image/png": "[encoded data removed]",
      "text/plain": [
       "<matplotlib.figure.Figure at 0x8ca970>"
      ]
     },
     "metadata": {},
     "output_type": "display_data"
    }
   ],
   "source": [
    "%matplotlib inline\n",
    "\n",
    "#Group the data by the specific column and return the count of the dataset\n",
    "#Make a list based on that new grouped data for plotting\n",
    "titanic_sibsp_range_df = titanic_sibsp_df.groupby(pd.cut(titanic_sibsp_df['SibSp'], [-1,0,1,2,3,4,5,6,7,8])).count()\n",
    "sibsp_by_range = titanic_sibsp_range_df['SibSp'].values\n",
    "temp1 = list(sibsp_by_range)\n",
    "\n",
    "#Group the data by the specific column and return the count of the filtered dataset\n",
    "#Make a list based on that new grouped data for plotting\n",
    "survived_sibsp_filtered = titanic_sibsp_df[titanic_sibsp_df.Survived == 1]\n",
    "survived_filtered_sibsp_range = survived_sibsp_filtered.groupby(pd.cut(survived_sibsp_filtered['SibSp'], \\\n",
    "                                                                       [-1,0,1,2,3,4,5,6,7,8])).count()\n",
    "survived_sibsp_by_range = survived_filtered_sibsp_range['SibSp'].values\n",
    "temp2 = list(survived_sibsp_by_range)\n",
    "\n",
    "#Group the data by the specific column and return the count of the filtered dataset\n",
    "#Make a list based on that new grouped data for plotting\n",
    "deceased_sibsp_filtered = titanic_sibsp_df[titanic_sibsp_df.Survived == 0]\n",
    "deceased_filtered_sibsp_range = deceased_sibsp_filtered.groupby(pd.cut(deceased_sibsp_filtered['SibSp'], \\\n",
    "                                                                       [-1,0,1,2,3,4,5,6,7,8])).count()\n",
    "deceased_sibsp_by_range = deceased_filtered_sibsp_range['SibSp'].values\n",
    "temp3 = list(deceased_sibsp_by_range)\n",
    "\n",
    "#Plot the bar graph\n",
    "xaxis = np.array([1, 2, 3, 4, 5, 6, 7, 8, 9]) #number of axis\n",
    "plt.xlabel('Number of Siblings/Spouses around the Titanic')  #X-axis label\n",
    "plt.ylabel('Number of Passengers') #Y-axis label\n",
    "plt.title(\"Figure 4: Number of Siblings/Spouses from Passengers\") #Chart title\n",
    "plt.xticks([1,2,3,4,5,6,7,8,9], [0, 1, 2, 3, 4, 5, 6, 7, 8]) #Rename the X-axis\n",
    "\n",
    "#Divide the current figure into an m-by-n grid\n",
    "#Plot the graph based on each list above\n",
    "ax = plt.subplot(111)\n",
    "ax.bar(xaxis-0.2, temp1, width=0.2, color ='b', align='center')\n",
    "ax.bar(xaxis, temp2, width=0.2, color ='g', align='center')\n",
    "ax.bar(xaxis+0.2, temp3, width=0.2, color ='r', align='center')\n",
    "\n",
    "#Insert legend with color coding for information\n",
    "blue_patch = mpatches.Patch(color='blue', label='Total Passengers')\n",
    "green_patch = mpatches.Patch(color='green', label='Survived')\n",
    "red_patch = mpatches.Patch(color='red', label='Deceased')\n",
    "plt.legend(loc = 'upper right', handles=[blue_patch, green_patch, red_patch])\n",
    "\n",
    "#Show the graph\n",
    "plt.show()"
   ]
  },
  {
   "cell_type": "code",
   "execution_count": 83,
   "metadata": {
    "collapsed": false
   },
   "outputs": [
    {
     "name": "stdout",
     "output_type": "stream",
     "text": [
      "         Total Passengers  Survived  Deceased\n",
      "SibSp                                        \n",
      "(-1, 0]               608       210       398\n",
      "(0, 1]                209       112        97\n",
      "(1, 2]                 28        13        15\n",
      "(2, 3]                 16         4        12\n",
      "(3, 4]                 18         3        15\n",
      "(4, 5]                  5         0         5\n",
      "(5, 6]                  0         0         0\n",
      "(6, 7]                  0         0         0\n",
      "(7, 8]                  7         0         7\n",
      "         Total Passengers  Survived  Deceased\n",
      "SibSp                                        \n",
      "(-1, 0]             100.0     34.54     65.46\n",
      "(0, 1]              100.0     53.59     46.41\n",
      "(1, 2]              100.0     46.43     53.57\n",
      "(2, 3]              100.0     25.00     75.00\n",
      "(3, 4]              100.0     16.67     83.33\n",
      "(4, 5]              100.0      0.00    100.00\n",
      "(5, 6]                NaN       NaN       NaN\n",
      "(6, 7]                NaN       NaN       NaN\n",
      "(7, 8]              100.0      0.00    100.00\n"
     ]
    }
   ],
   "source": [
    "#Combine pre-existing table into a single table\n",
    "concat_tables_sibsp = pd.concat([titanic_sibsp_range_df['SibSp'], survived_filtered_sibsp_range['SibSp'], \\\n",
    "                               deceased_filtered_sibsp_range['SibSp']], axis=1)\n",
    "concat_tables_sibsp.columns = ['Total Passengers', 'Survived', 'Deceased']\n",
    "print(concat_tables_sibsp)\n",
    "\n",
    "#Apply a function to each row\n",
    "df_sibsp_survival_ratio = concat_tables_sibsp.apply(convert_percent, axis = 1)\n",
    "print(df_sibsp_survival_ratio)"
   ]
  },
  {
   "cell_type": "code",
   "execution_count": 84,
   "metadata": {
    "collapsed": false
   },
   "outputs": [
    {
     "name": "stdout",
     "output_type": "stream",
     "text": [
      "SibSp\n",
      "(-1, 0]     3.090385\n",
      "(0, 1]     21.556616\n",
      "(1, 2]      0.844288\n",
      "(2, 3]      1.147708\n",
      "(3, 4]      3.477080\n",
      "(4, 5]      3.064516\n",
      "(5, 6]           NaN\n",
      "(6, 7]           NaN\n",
      "(7, 8]      4.290323\n",
      "dtype: float64\n",
      "\n",
      "The sum of chi-squared test: 37.47\n"
     ]
    }
   ],
   "source": [
    "#Apply a function to each row\n",
    "df_chi_square_sibsp = concat_tables_sibsp.apply(chi_square, axis = 1)\n",
    "print(df_chi_square_sibsp)\n",
    "print(\"\\nThe sum of chi-squared test:\", round(df_chi_square_sibsp.sum(),2))"
   ]
  },
  {
   "cell_type": "markdown",
   "metadata": {},
   "source": [
    "Onboard - parch"
   ]
  },
  {
   "cell_type": "code",
   "execution_count": 85,
   "metadata": {
    "collapsed": false
   },
   "outputs": [
    {
     "name": "stdout",
     "output_type": "stream",
     "text": [
      "Parch       891\n",
      "Survived    891\n",
      "dtype: int64\n"
     ]
    }
   ],
   "source": [
    "titanic_parch_df = pd.DataFrame({\n",
    "    'Parch': raw_df['Parch'].values,\n",
    "    'Survived': raw_df['Survived'].values\n",
    "}, index=raw_df['PassengerId'])\n",
    "\n",
    "#Check the total of rows to match 891 passengers\n",
    "print(titanic_parch_df.count())\n"
   ]
  },
  {
   "cell_type": "code",
   "execution_count": 98,
   "metadata": {
    "collapsed": false
   },
   "outputs": [
    {
     "data": {
      "image/png": "[encoded data removed]",
      "text/plain": [
       "<matplotlib.figure.Figure at 0xdb2150>"
      ]
     },
     "metadata": {},
     "output_type": "display_data"
    }
   ],
   "source": [
    "%matplotlib inline\n",
    "\n",
    "#Group the data by the specific column and return the count of the dataset\n",
    "#Make a list based on that new grouped data for plotting\n",
    "titanic_parch_range_df = titanic_parch_df.groupby(pd.cut(titanic_parch_df['Parch'], [-1,0,1,2,3,4,5,6])).count()\n",
    "parch_by_range = titanic_parch_range_df['Parch'].values\n",
    "temp1 = list(parch_by_range)\n",
    "\n",
    "#Group the data by the specific column and return the count of the filtered dataset\n",
    "#Make a list based on that new grouped data for plotting\n",
    "survived_parch_filtered = titanic_parch_df[titanic_parch_df.Survived == 1]\n",
    "survived_filtered_parch_range = survived_parch_filtered.groupby(pd.cut(survived_parch_filtered['Parch'], \\\n",
    "                                                                       [-1,0,1,2,3,4,5,6])).count()\n",
    "survived_parch_by_range = survived_filtered_parch_range['Parch'].values\n",
    "temp2 = list(survived_parch_by_range)\n",
    "\n",
    "#Group the data by the specific column and return the count of the filtered dataset\n",
    "#Make a list based on that new grouped data for plotting\n",
    "deceased_parch_filtered = titanic_parch_df[titanic_parch_df.Survived == 0]\n",
    "deceased_filtered_parch_range = deceased_parch_filtered.groupby(pd.cut(deceased_parch_filtered['Parch'], \\\n",
    "                                                                       [-1,0,1,2,3,4,5,6])).count()\n",
    "deceased_parch_by_range = deceased_filtered_parch_range['Parch'].values\n",
    "temp3 = list(deceased_parch_by_range)\n",
    "\n",
    "#Plot the bar graph\n",
    "xaxis = np.array([1, 2, 3, 4, 5, 6, 7]) #number of axis\n",
    "plt.xlabel('Number of Parents/Children around the Titanic')  #X-axis label\n",
    "plt.ylabel('Number of Passengers') #Y-axis label\n",
    "plt.title(\"Figure 5: Number of Parents/Children from Passengers\") #Chart title\n",
    "plt.xticks([1,2,3,4,5,6,7], [0, 1, 2, 3, 4, 5, 6]) #Rename the X-axis\n",
    "\n",
    "#Divide the current figure into an m-by-n grid\n",
    "#Plot the graph based on each list above\n",
    "ax = plt.subplot(111)\n",
    "ax.bar(xaxis-0.2, temp1, width=0.2, color ='b', align='center')\n",
    "ax.bar(xaxis, temp2, width=0.2, color ='g', align='center')\n",
    "ax.bar(xaxis+0.2, temp3, width=0.2, color ='r', align='center')\n",
    "\n",
    "#Insert legend with color coding for information\n",
    "blue_patch = mpatches.Patch(color='blue', label='Total Passengers')\n",
    "green_patch = mpatches.Patch(color='green', label='Survived')\n",
    "red_patch = mpatches.Patch(color='red', label='Deceased')\n",
    "plt.legend(loc = 'upper right', handles=[blue_patch, green_patch, red_patch])\n",
    "\n",
    "#Show the graph\n",
    "plt.show()\n"
   ]
  },
  {
   "cell_type": "code",
   "execution_count": 100,
   "metadata": {
    "collapsed": false
   },
   "outputs": [
    {
     "name": "stdout",
     "output_type": "stream",
     "text": [
      "         Total Passengers  Survived  Deceased\n",
      "Parch                                        \n",
      "(-1, 0]               678       233       445\n",
      "(0, 1]                118        65        53\n",
      "(1, 2]                 80        40        40\n",
      "(2, 3]                  5         3         2\n",
      "(3, 4]                  4         0         4\n",
      "(4, 5]                  5         1         4\n",
      "(5, 6]                  1         0         1\n",
      "         Total Passengers  Survived  Deceased\n",
      "Parch                                        \n",
      "(-1, 0]             100.0     34.37     65.63\n",
      "(0, 1]              100.0     55.08     44.92\n",
      "(1, 2]              100.0     50.00     50.00\n",
      "(2, 3]              100.0     60.00     40.00\n",
      "(3, 4]              100.0      0.00    100.00\n",
      "(4, 5]              100.0     20.00     80.00\n",
      "(5, 6]              100.0      0.00    100.00\n"
     ]
    }
   ],
   "source": [
    "#Combine pre-existing table into a single table\n",
    "concat_tables_parch = pd.concat([titanic_parch_range_df['Parch'], survived_filtered_parch_range['Parch'], \\\n",
    "                               deceased_filtered_parch_range['Parch']], axis=1)\n",
    "concat_tables_parch.columns = ['Total Passengers', 'Survived', 'Deceased']\n",
    "print(concat_tables_parch)\n",
    "\n",
    "#Apply a function to each row\n",
    "df_parch_survival_ratio = concat_tables_parch.apply(convert_percent, axis = 1)\n",
    "print(df_parch_survival_ratio)"
   ]
  },
  {
   "cell_type": "code",
   "execution_count": 101,
   "metadata": {
    "collapsed": false
   },
   "outputs": [
    {
     "name": "stdout",
     "output_type": "stream",
     "text": [
      "Parch\n",
      "(-1, 0]     3.800812\n",
      "(0, 1]     14.619205\n",
      "(1, 2]      4.889643\n",
      "(2, 3]      1.027165\n",
      "(3, 4]      2.451613\n",
      "(4, 5]      0.687606\n",
      "(5, 6]      0.612903\n",
      "dtype: float64\n",
      "\n",
      "The sum of chi-squared test: 37.47\n"
     ]
    }
   ],
   "source": [
    "#Apply a function to each row\n",
    "df_chi_square_parch = concat_tables_parch.apply(chi_square, axis = 1)\n",
    "print(df_chi_square_parch)\n",
    "print(\"\\nThe sum of chi-squared test:\", round(df_chi_square_sibsp.sum(),2))"
   ]
  },
  {
   "cell_type": "code",
   "execution_count": null,
   "metadata": {
    "collapsed": true
   },
   "outputs": [],
   "source": []
  }
 ],
 "metadata": {
  "kernelspec": {
   "display_name": "Python 3",
   "language": "python",
   "name": "python3"
  },
  "language_info": {
   "codemirror_mode": {
    "name": "ipython",
    "version": 3
   },
   "file_extension": ".py",
   "mimetype": "text/x-python",
   "name": "python",
   "nbconvert_exporter": "python",
   "pygments_lexer": "ipython3",
   "version": "3.5.1"
  }
 },
 "nbformat": 4,
 "nbformat_minor": 2
}
