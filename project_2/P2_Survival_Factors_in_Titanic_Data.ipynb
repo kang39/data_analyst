{
 "cells": [
  {
   "cell_type": "markdown",
   "metadata": {},
   "source": [
    "# Question\n",
    "\n",
    "In Titanic Data, it contains demographics and passenger information from 891 of the 2224 passengers and crew on board the Titanic. In next cell, there are detail description of data from the source. My fundamental question have started from the survivors. Based on the survival data and each variable, the observation will be focused on the correlation of each factor, and how each variable has had affected the chance of survival in the incident. Specifically, variables such as ticket class, sex, age, and onboard family relationship are being analyzed in terms of survival. "
   ]
  },
  {
   "cell_type": "markdown",
   "metadata": {},
   "source": [
    "# Data Description\n",
    "\n",
    "\n",
    "### Data Dictionary (Variable, Definition, Key)\n",
    "\n",
    "| Variable   | Definition                                  | Key                                              |\n",
    "|------------|---------------------------------------------|--------------------------------------------------|\n",
    "| survival   | Survival                                    | 0 = No, 1 = Yes                                  |\n",
    "| pclass     | Ticket class                                | 1 = 1st, 2 = 2nd, 3 = 3rd                        |\n",
    "| sex        | Sex                                         |                                                  |\n",
    "| Age        | Age in years                                |                                                  |\n",
    "| sibsp      | # of siblings / spouses around the Titanic  |                                                  |\n",
    "| parch      | # of parents / children aboard the Titanic  |                                                  |\n",
    "| ticket     | Ticket number                               |                                                  |\n",
    "| fare       | Passenger fare                              |                                                  |\n",
    "| cabin      | Cabin number                                |                                                  |\n",
    "| embarked   | Port of Embarkation                         | C = Cherbourg, Q = Queenstown, S = Southampton   |\n",
    "\n",
    "### Variable Notes\n",
    "- pclass: A proxy for socio-economic status (SES)\n",
    "    - 1st = Upper\n",
    "    - 2nd = Middle\n",
    "    - 3rd = Lower\n",
    "\n",
    "- age: Age is fractional if less than 1. If the age is estimated, is it in the form of xx.5\n",
    "\n",
    "- sibsp: The dataset defines family relations in this way...\n",
    "    - Sibling = brother, sister, stepbrother, stepsister\n",
    "    - Spouse = husband, wife (mistresses and fiancés were ignored)\n",
    "\n",
    "- parch: The dataset defines family relations in this way...\n",
    "    - Parent = mother, father\n",
    "    - Child = daughter, son, stepdaughter, stepson\n",
    "        - Some children travelled only with a nanny, therefore parch=0 for them.\n",
    "\n",
    "Source From: https://www.kaggle.com/c/titanic/data"
   ]
  },
  {
   "cell_type": "markdown",
   "metadata": {},
   "source": [
    "# Data Wrangle"
   ]
  },
  {
   "cell_type": "code",
   "execution_count": 1,
   "metadata": {
    "collapsed": false
   },
   "outputs": [],
   "source": [
    "##Import pandas, numpy, matplotlib, seaborn, patches\n",
    "import pandas as pd\n",
    "import numpy as np\n",
    "import matplotlib.pyplot as plt\n",
    "import seaborn as sns\n",
    "import matplotlib.patches as mpatches"
   ]
  },
  {
   "cell_type": "code",
   "execution_count": 2,
   "metadata": {
    "collapsed": false,
    "scrolled": true
   },
   "outputs": [
    {
     "name": "stdout",
     "output_type": "stream",
     "text": [
      "Survived        891\n",
      "Ticket_Class    891\n",
      "dtype: int64\n"
     ]
    }
   ],
   "source": [
    "#Root file location\n",
    "filename = '/home/koo/Downloads/udacity/P2/P2_project/titanic-data.csv'\n",
    "\n",
    "#Retrieve csv file location and read csv file as Dataframe\n",
    "raw_df = pd.read_csv(filename)\n",
    "\n",
    "#Create a new dataframe with necessary information from the dataset\n",
    "titanic_df = pd.DataFrame({\n",
    "    'Ticket_Class': raw_df['Pclass'].values,\n",
    "    'Survived': raw_df['Survived'].values\n",
    "}, index=raw_df['PassengerId'])\n",
    "\n",
    "#Check the total of rows to match 891 passengers\n",
    "print(titanic_df.count())"
   ]
  },
  {
   "cell_type": "markdown",
   "metadata": {},
   "source": [
    "### Exploring Survivors with Ticket Classes"
   ]
  },
  {
   "cell_type": "code",
   "execution_count": 3,
   "metadata": {
    "collapsed": false,
    "scrolled": false
   },
   "outputs": [
    {
     "data": {
      "image/png": "[encoded data removed]",
      "text/plain": [
       "<matplotlib.figure.Figure at 0x7f7044c9e5c0>"
      ]
     },
     "metadata": {},
     "output_type": "display_data"
    }
   ],
   "source": [
    "%matplotlib inline\n",
    "\n",
    "#Group the data by the specific column and return the count of the dataset\n",
    "#Make a list based on that new grouped data for plotting\n",
    "total_by_classes = titanic_df.groupby('Ticket_Class').count()\n",
    "temp1 = list(total_by_classes.values.flatten())\n",
    "\n",
    "#Group the data by the specific column and return the count of the filtered dataset\n",
    "#Make a list based on that new grouped data for plotting\n",
    "survived_by_classes = titanic_df[titanic_df.Survived == 1].groupby('Ticket_Class').count()\n",
    "temp2 = list(survived_by_classes.values.flatten())\n",
    "\n",
    "#Group the data by the specific column and return the count of the filtered dataset\n",
    "#Make a list based on that new grouped data for plotting\n",
    "deceased_by_classes = titanic_df[titanic_df.Survived == 0].groupby('Ticket_Class').count()\n",
    "temp3 = list(deceased_by_classes.values.flatten())\n",
    "\n",
    "#Plot the bar graph\n",
    "xaxis = np.array([1, 2, 3]) #number of axis\n",
    "plt.xlabel('Ticket Classes')  #X-axis label\n",
    "plt.ylabel('Number of Passengers') #Y-axis label\n",
    "plt.title(\"Figure 1: Passengers in each Class\") #Chart title\n",
    "plt.xticks([1,2,3], ['1st Class', '2nd Class', '3rd Class']) #Rename the X-axis\n",
    "\n",
    "#Divide the current figure into an m-by-n grid\n",
    "#Plot the graph based on each list above\n",
    "ax = plt.subplot(111)\n",
    "ax.bar(xaxis-0.2, temp1, width=0.2, color ='b', align='center')\n",
    "ax.bar(xaxis, temp2, width=0.2, color ='g', align='center')\n",
    "ax.bar(xaxis+0.2, temp3, width=0.2, color ='r', align='center')\n",
    "\n",
    "#Insert legend with color coding for information\n",
    "blue_patch = mpatches.Patch(color='blue', label='Total Passengers')\n",
    "green_patch = mpatches.Patch(color='green', label='Survived')\n",
    "red_patch = mpatches.Patch(color='red', label='Deceased')\n",
    "plt.legend(handles=[blue_patch, green_patch, red_patch])\n",
    "\n",
    "#Show the graph\n",
    "plt.show()"
   ]
  },
  {
   "cell_type": "code",
   "execution_count": 4,
   "metadata": {
    "collapsed": false,
    "scrolled": true
   },
   "outputs": [
    {
     "name": "stdout",
     "output_type": "stream",
     "text": [
      "              Total Passengers  Survived  Deceased\n",
      "Ticket_Class                                      \n",
      "1                          216       136        80\n",
      "2                          184        87        97\n",
      "3                          491       119       372\n",
      "              Total Passengers  Survived  Deceased\n",
      "Ticket_Class                                      \n",
      "1                        100.0     62.96     37.04\n",
      "2                        100.0     47.28     52.72\n",
      "3                        100.0     24.24     75.76\n"
     ]
    }
   ],
   "source": [
    "#Combine pre-existing table into a single table\n",
    "concat_tables_classes = pd.concat([total_by_classes, survived_by_classes, deceased_by_classes], axis=1)\n",
    "concat_tables_classes.columns = ['Total Passengers', 'Survived', 'Deceased']\n",
    "print(concat_tables_classes)\n",
    "\n",
    "#Define a function to convert a series to percentages\n",
    "def convert_percent(series):\n",
    "    return round((series / series.iloc[0]) * 100, 2)\n",
    "\n",
    "#Apply a function to each row\n",
    "df_classes_survival_ratio = concat_tables_classes.apply(convert_percent, axis = 1)\n",
    "print(df_classes_survival_ratio)"
   ]
  },
  {
   "cell_type": "markdown",
   "metadata": {},
   "source": [
    "### Observations from Different Ticket Classes"
   ]
  },
  {
   "cell_type": "markdown",
   "metadata": {},
   "source": [
    "Based on Figure 1 above, there are some noticeable observations related to ticket classes and survivor rates. More than half of passengers in the 1st class have survived from the incident. Compared to that, 3rd class passengers have shown much less survival rate compared to the first class. Also, red bar graphs that indicate the rate of deceased have shown a gradual increase as the ticket class changed from the 1st to 3rd. The percentages in the data frame proves this tendency (in df_classes_survival_ratio). \n",
    "\n",
    "Throughout the research, I have found different ways of performing statics tests in binary or categorical outcomes with proportions(in this case survival rate). According to Stanford University HRP258: Introduction to Probability and Statistics for Clinical Research by Kristin Sainani, it introduces several different ways such as Chi-square test, McNemar's chi-square, Relative risks, or Conditional logistic. Based on the decision tree in the lecture slides, my data seems to be independent result from three different groups(Ticket Classes). Furthermore, my data indicates different survival rates in different classes, so it fits the main purpose of chi-square test comparing proportions among three groups. \n",
    "\n",
    "Source From: \n",
    "1. web.stanford.edu/~kcobb/hrp258/lecture7.ppt\n",
    "2. https://en.wikipedia.org/wiki/Chi-squared_test\n",
    "3. https://en.wikipedia.org/wiki/Pearson%27s_chi-squared_test"
   ]
  },
  {
   "cell_type": "markdown",
   "metadata": {},
   "source": [
    "#### Chi-Square Test\n",
    "- To perform chi-square test, the overall survival rate should be calculated with all passengers of 891."
   ]
  },
  {
   "cell_type": "code",
   "execution_count": 5,
   "metadata": {
    "collapsed": false
   },
   "outputs": [],
   "source": [
    "#Apply a function to each column\n",
    "sum_classes_df = concat_tables_classes.apply(sum, axis=0)\n",
    "\n",
    "#Get the total values for each series to find overall rate\n",
    "total_passengers, survivors, deceased = sum_classes_df.iloc[0], sum_classes_df.iloc[1], sum_classes_df.iloc[2] \n",
    "overall_survival_rate = round(survivors / total_passengers, 2)\n",
    "overall_deceased_rate = round(deceased / total_passengers, 2)"
   ]
  },
  {
   "cell_type": "markdown",
   "metadata": {},
   "source": [
    "Before calculating chi-square as below, there should be some pre-works done such as calculating degree of freedom, and making hypothesis statements within the significance level.\n",
    "$$\\chi_{df}^2 = \\sum \\frac{(observed-expected)^2}{expected}$$\n",
    "\n",
    "\n",
    "- Degree of Freedom: Since the data set has three rows and two columns as below, the degree of freedom should be 2. \n",
    "    $$(number\\_ of\\_rows - 1)*(number\\_of\\_columns -1) = (3-1)*(2-1)=2$$\n",
    "\n",
    "| Ticket_Class | Deceased   | Survived   |\n",
    "|--------------|------------|------------|\n",
    "| 1.0          | 80         | 136        |\n",
    "| 2.0          | 97         | 87         |\n",
    "| 3.0          | 372        | 119        |\n",
    "\n",
    "With the degree of freedom, I need to find the critical value at 95% significance level. Based on the chi-square distribution table, the upper-tail critical values gives the value of 5.99 at 95% significance level. \n",
    "\n",
    "<img src=\"chi_sqaure_distribution_table.PNG\" />\n",
    "\n",
    "These are my hypothesis for the chi-squared test;\n",
    "\n",
    "- $H_0:$ The average survival rate of whole dataset (38%) will be similarly applied in different ticket classes respectively at 95% significance level. In other words, the difference in survival rates in each ticket class comparing with all passengers survival rate is not significantly different, but actually staying within the confidence intervals of whole passengers survival rate.\n",
    "\n",
    "\n",
    "- $H_A:$ The alternative hypothesis is the average survival rate of each ticket class will be different from the whole passengers survival rate at 95% significance level. In this case, the difference in survival rates in each class comparing with all passengers survival rate is significantly different. Hence, the causation of different ticket classes can affect the survival rate can be assumed. \n",
    "\n",
    "Source From: http://passel.unl.edu/Image/Namuth-CovertDeana956176274/chi-sqaure%20distribution%20table.PNG"
   ]
  },
  {
   "cell_type": "code",
   "execution_count": 6,
   "metadata": {
    "collapsed": false
   },
   "outputs": [
    {
     "name": "stdout",
     "output_type": "stream",
     "text": [
      "Ticket_Class\n",
      "1    57.130856\n",
      "2     6.729497\n",
      "3    39.480223\n",
      "dtype: float64\n",
      "\n",
      "The sum of chi-squared test: 103.34\n"
     ]
    }
   ],
   "source": [
    "#Define a function to calculate chi_square\n",
    "def chi_square(row):\n",
    "    total, survivor, deceased = map(lambda x: x, row)\n",
    "    sur = ((survivor - (total * 0.38))**2) / (total * 0.38)\n",
    "    dec = ((deceased - (total * 0.62))**2) / (total * 0.62)\n",
    "    return sur + dec\n",
    "\n",
    "#Apply a function to each row\n",
    "df_chi_square = concat_tables_classes.apply(chi_square, axis = 1)\n",
    "print(df_chi_square)\n",
    "print(\"\\nThe sum of chi-squared test:\", round(df_chi_square.sum(),2))\n"
   ]
  },
  {
   "cell_type": "markdown",
   "metadata": {},
   "source": [
    "### Finding from Survivors & Ticket Classes"
   ]
  },
  {
   "cell_type": "markdown",
   "metadata": {},
   "source": [
    "As a result, the sum of chi-squared test is 103.34 which is much greater than the upper-tail critical value 5.99 at 95% significance level. Therefore, it rejects the null hypothesis, so the the average survival rate of each ticket class will be significantly different from the whole passengers survival rate at 95% significance level. Based on this test result, three different ticket classes can cause different survival rate in the incident. In this case, the rate of survival tends to increase as the ticket class goes up from the thrid to first."
   ]
  },
  {
   "cell_type": "markdown",
   "metadata": {},
   "source": []
  },
  {
   "cell_type": "markdown",
   "metadata": {},
   "source": []
  },
  {
   "cell_type": "markdown",
   "metadata": {},
   "source": [
    "Perform with the sex\n",
    "perform with the age\n",
    "perform with the onboard family relationship(sib/parch)\n",
    "\n",
    "Based on the highest realtionship, Now I group them up with it then run the stat test.\n",
    "Provide heuristic and compare that with the real survival rate.\n"
   ]
  },
  {
   "cell_type": "markdown",
   "metadata": {},
   "source": [
    "Sex"
   ]
  },
  {
   "cell_type": "code",
   "execution_count": 7,
   "metadata": {
    "collapsed": false
   },
   "outputs": [
    {
     "name": "stdout",
     "output_type": "stream",
     "text": [
      "Sex         891\n",
      "Survived    891\n",
      "dtype: int64\n"
     ]
    }
   ],
   "source": [
    "#Create a new dataframe with necessary information from the dataset\n",
    "titanic_sex_df = pd.DataFrame({\n",
    "    'Sex': raw_df['Sex'].values,\n",
    "    'Survived': raw_df['Survived'].values\n",
    "}, index=raw_df['PassengerId'])\n",
    "\n",
    "#Check the total of rows to match 891 passengers\n",
    "print(titanic_sex_df.count())\n"
   ]
  },
  {
   "cell_type": "code",
   "execution_count": 8,
   "metadata": {
    "collapsed": false
   },
   "outputs": [
    {
     "data": {
      "image/png": "[encoded data removed]",
      "text/plain": [
       "<matplotlib.figure.Figure at 0x7f7044c9e4e0>"
      ]
     },
     "metadata": {},
     "output_type": "display_data"
    }
   ],
   "source": [
    "%matplotlib inline\n",
    "\n",
    "#Group the data by the specific column and return the count of the dataset\n",
    "#Make a list based on that new grouped data for plotting\n",
    "total_by_sex = titanic_sex_df.groupby('Sex').count()\n",
    "temp1 = list(total_by_sex.values.flatten())\n",
    "\n",
    "#Group the data by the specific column and return the count of the filtered dataset\n",
    "#Make a list based on that new grouped data for plotting\n",
    "survived_by_sex = titanic_sex_df[titanic_sex_df.Survived == 1].groupby('Sex').count()\n",
    "temp2 = list(survived_by_sex.values.flatten())\n",
    "\n",
    "#Group the data by the specific column and return the count of the filtered dataset\n",
    "#Make a list based on that new grouped data for plotting\n",
    "deceased_by_sex = titanic_sex_df[titanic_sex_df.Survived == 0].groupby('Sex').count()\n",
    "temp3 = list(deceased_by_sex.values.flatten())\n",
    "\n",
    "#Plot the bar graph\n",
    "xaxis = np.array([1, 2]) #number of axis\n",
    "plt.xlabel('Sex')  #X-axis label\n",
    "plt.ylabel('Number of Passengers') #Y-axis label\n",
    "plt.title(\"Figure 2: Female & Male Passengers\") #Chart title\n",
    "plt.xticks([1,2,3], ['Female', 'Male']) #Rename the X-axis\n",
    "\n",
    "#Divide the current figure into an m-by-n grid\n",
    "#Plot the graph based on each list above\n",
    "ax = plt.subplot(111)\n",
    "ax.bar(xaxis-0.2, temp1, width=0.2, color ='b', align='center')\n",
    "ax.bar(xaxis, temp2, width=0.2, color ='g', align='center')\n",
    "ax.bar(xaxis+0.2, temp3, width=0.2, color ='r', align='center')\n",
    "\n",
    "#Insert legend with color coding for information\n",
    "blue_patch = mpatches.Patch(color='blue', label='Total Passengers')\n",
    "green_patch = mpatches.Patch(color='green', label='Survived')\n",
    "red_patch = mpatches.Patch(color='red', label='Deceased')\n",
    "plt.legend(handles=[blue_patch, green_patch, red_patch])\n",
    "\n",
    "#Show the graph\n",
    "plt.show()\n"
   ]
  },
  {
   "cell_type": "code",
   "execution_count": 9,
   "metadata": {
    "collapsed": false
   },
   "outputs": [
    {
     "name": "stdout",
     "output_type": "stream",
     "text": [
      "        Total Passengers  Survived  Deceased\n",
      "Sex                                         \n",
      "female               314       233        81\n",
      "male                 577       109       468\n",
      "        Total Passengers  Survived  Deceased\n",
      "Sex                                         \n",
      "female             100.0     74.20     25.80\n",
      "male               100.0     18.89     81.11\n"
     ]
    }
   ],
   "source": [
    "#Combine pre-existing table into a single table\n",
    "concat_tables_sex = pd.concat([total_by_sex, survived_by_sex, deceased_by_sex], axis=1)\n",
    "concat_tables_sex.columns = ['Total Passengers', 'Survived', 'Deceased']\n",
    "print(concat_tables_sex)\n",
    "\n",
    "#Apply a function to each row\n",
    "df_sex_survival_ratio = concat_tables_sex.apply(convert_percent, axis = 1)\n",
    "print(df_sex_survival_ratio)\n"
   ]
  },
  {
   "cell_type": "code",
   "execution_count": 10,
   "metadata": {
    "collapsed": false
   },
   "outputs": [
    {
     "name": "stdout",
     "output_type": "stream",
     "text": [
      "Sex\n",
      "female    174.688049\n",
      "male       89.430339\n",
      "dtype: float64\n",
      "\n",
      "The sum of chi-squared test: 264.12\n"
     ]
    }
   ],
   "source": [
    "#Define a function to calculate chi_square\n",
    "def chi_square(row):\n",
    "    total, survivor, deceased = map(lambda x: x, row)\n",
    "    sur = ((survivor - (total * 0.38))**2) / (total * 0.38)\n",
    "    dec = ((deceased - (total * 0.62))**2) / (total * 0.62)\n",
    "    return sur + dec\n",
    "\n",
    "#Apply a function to each row\n",
    "df_chi_square_sex = concat_tables_sex.apply(chi_square, axis = 1)\n",
    "print(df_chi_square_sex)\n",
    "print(\"\\nThe sum of chi-squared test:\", round(df_chi_square_sex.sum(),2))"
   ]
  },
  {
   "cell_type": "markdown",
   "metadata": {},
   "source": []
  },
  {
   "cell_type": "markdown",
   "metadata": {},
   "source": [
    "Age"
   ]
  },
  {
   "cell_type": "code",
   "execution_count": 16,
   "metadata": {
    "collapsed": false
   },
   "outputs": [
    {
     "name": "stdout",
     "output_type": "stream",
     "text": [
      "Age         714\n",
      "Survived    891\n",
      "dtype: int64\n"
     ]
    }
   ],
   "source": [
    "#Create a new dataframe with necessary information from the dataset\n",
    "titanic_age_df = pd.DataFrame({\n",
    "    'Age': raw_df['Age'].values,\n",
    "    'Survived': raw_df['Survived'].values\n",
    "}, index=raw_df['PassengerId'])\n",
    "\n",
    "#Check the total of rows to match 891 passengers\n",
    "print(titanic_age_df.count())"
   ]
  },
  {
   "cell_type": "code",
   "execution_count": 36,
   "metadata": {
    "collapsed": false
   },
   "outputs": [
    {
     "ename": "AttributeError",
     "evalue": "Cannot access attribute 'values' of 'DataFrameGroupBy' objects, try using the 'apply' method",
     "output_type": "error",
     "traceback": [
      "\u001b[0;31m---------------------------------------------------------------------------\u001b[0m",
      "\u001b[0;31mAttributeError\u001b[0m                            Traceback (most recent call last)",
      "\u001b[0;32m<ipython-input-36-6e77315f384f>\u001b[0m in \u001b[0;36m<module>\u001b[0;34m()\u001b[0m\n\u001b[0;32m----> 1\u001b[0;31m \u001b[0mtitanic_age_range_df\u001b[0m \u001b[0;34m=\u001b[0m \u001b[0mtitanic_age_df\u001b[0m\u001b[0;34m.\u001b[0m\u001b[0mgroupby\u001b[0m\u001b[0;34m(\u001b[0m\u001b[0mpd\u001b[0m\u001b[0;34m.\u001b[0m\u001b[0mcut\u001b[0m\u001b[0;34m(\u001b[0m\u001b[0mtitanic_age_df\u001b[0m\u001b[0;34m[\u001b[0m\u001b[0;34m'Age'\u001b[0m\u001b[0;34m]\u001b[0m\u001b[0;34m,\u001b[0m \u001b[0mrange\u001b[0m\u001b[0;34m(\u001b[0m\u001b[0;36m0\u001b[0m\u001b[0;34m,\u001b[0m \u001b[0;36m100\u001b[0m\u001b[0;34m,\u001b[0m \u001b[0;36m10\u001b[0m\u001b[0;34m)\u001b[0m\u001b[0;34m)\u001b[0m\u001b[0;34m)\u001b[0m\u001b[0;34m.\u001b[0m\u001b[0mvalues\u001b[0m\u001b[0;34m(\u001b[0m\u001b[0;34m)\u001b[0m\u001b[0;34m\u001b[0m\u001b[0m\n\u001b[0m\u001b[1;32m      2\u001b[0m \u001b[0mprint\u001b[0m\u001b[0;34m(\u001b[0m\u001b[0mtitanic_age_range_df\u001b[0m\u001b[0;34m)\u001b[0m\u001b[0;34m\u001b[0m\u001b[0m\n",
      "\u001b[0;32m/home/koo/anaconda3/lib/python3.6/site-packages/pandas/core/groupby.py\u001b[0m in \u001b[0;36m__getattr__\u001b[0;34m(self, attr)\u001b[0m\n\u001b[1;32m    524\u001b[0m             \u001b[0;32mreturn\u001b[0m \u001b[0mself\u001b[0m\u001b[0;34m[\u001b[0m\u001b[0mattr\u001b[0m\u001b[0;34m]\u001b[0m\u001b[0;34m\u001b[0m\u001b[0m\n\u001b[1;32m    525\u001b[0m         \u001b[0;32mif\u001b[0m \u001b[0mhasattr\u001b[0m\u001b[0;34m(\u001b[0m\u001b[0mself\u001b[0m\u001b[0;34m.\u001b[0m\u001b[0mobj\u001b[0m\u001b[0;34m,\u001b[0m \u001b[0mattr\u001b[0m\u001b[0;34m)\u001b[0m\u001b[0;34m:\u001b[0m\u001b[0;34m\u001b[0m\u001b[0m\n\u001b[0;32m--> 526\u001b[0;31m             \u001b[0;32mreturn\u001b[0m \u001b[0mself\u001b[0m\u001b[0;34m.\u001b[0m\u001b[0m_make_wrapper\u001b[0m\u001b[0;34m(\u001b[0m\u001b[0mattr\u001b[0m\u001b[0;34m)\u001b[0m\u001b[0;34m\u001b[0m\u001b[0m\n\u001b[0m\u001b[1;32m    527\u001b[0m \u001b[0;34m\u001b[0m\u001b[0m\n\u001b[1;32m    528\u001b[0m         raise AttributeError(\"%r object has no attribute %r\" %\n",
      "\u001b[0;32m/home/koo/anaconda3/lib/python3.6/site-packages/pandas/core/groupby.py\u001b[0m in \u001b[0;36m_make_wrapper\u001b[0;34m(self, name)\u001b[0m\n\u001b[1;32m    538\u001b[0m                    \"using the 'apply' method\".format(kind, name,\n\u001b[1;32m    539\u001b[0m                                                      type(self).__name__))\n\u001b[0;32m--> 540\u001b[0;31m             \u001b[0;32mraise\u001b[0m \u001b[0mAttributeError\u001b[0m\u001b[0;34m(\u001b[0m\u001b[0mmsg\u001b[0m\u001b[0;34m)\u001b[0m\u001b[0;34m\u001b[0m\u001b[0m\n\u001b[0m\u001b[1;32m    541\u001b[0m \u001b[0;34m\u001b[0m\u001b[0m\n\u001b[1;32m    542\u001b[0m         \u001b[0;31m# need to setup the selection\u001b[0m\u001b[0;34m\u001b[0m\u001b[0;34m\u001b[0m\u001b[0m\n",
      "\u001b[0;31mAttributeError\u001b[0m: Cannot access attribute 'values' of 'DataFrameGroupBy' objects, try using the 'apply' method"
     ]
    }
   ],
   "source": [
    "titanic_age_range_df = titanic_age_df.groupby(pd.cut(titanic_age_df['Age'], range(0, 100, 10))).values()\n",
    "print(titanic_age_range_df)\n"
   ]
  },
  {
   "cell_type": "code",
   "execution_count": 30,
   "metadata": {
    "collapsed": false
   },
   "outputs": [
    {
     "ename": "AttributeError",
     "evalue": "'Series' object has no attribute 'Survived'",
     "output_type": "error",
     "traceback": [
      "\u001b[0;31m---------------------------------------------------------------------------\u001b[0m",
      "\u001b[0;31mAttributeError\u001b[0m                            Traceback (most recent call last)",
      "\u001b[0;32m<ipython-input-30-7a3fe1acb3b3>\u001b[0m in \u001b[0;36m<module>\u001b[0;34m()\u001b[0m\n\u001b[1;32m      8\u001b[0m \u001b[0;31m#Group the data by the specific column and return the count of the filtered dataset\u001b[0m\u001b[0;34m\u001b[0m\u001b[0;34m\u001b[0m\u001b[0m\n\u001b[1;32m      9\u001b[0m \u001b[0;31m#Make a list based on that new grouped data for plotting\u001b[0m\u001b[0;34m\u001b[0m\u001b[0;34m\u001b[0m\u001b[0m\n\u001b[0;32m---> 10\u001b[0;31m \u001b[0mage_by_range_survived\u001b[0m \u001b[0;34m=\u001b[0m \u001b[0mtitanic_age_range_df\u001b[0m\u001b[0;34m[\u001b[0m\u001b[0mtitanic_age_range_df\u001b[0m\u001b[0;34m.\u001b[0m\u001b[0mSurvived\u001b[0m \u001b[0;34m==\u001b[0m \u001b[0;36m1\u001b[0m\u001b[0;34m]\u001b[0m\u001b[0;34m.\u001b[0m\u001b[0mcount\u001b[0m\u001b[0;34m(\u001b[0m\u001b[0;34m)\u001b[0m\u001b[0;34m\u001b[0m\u001b[0m\n\u001b[0m\u001b[1;32m     11\u001b[0m \u001b[0;31m#survived_by_sex = titanic_sex_df[titanic_sex_df.Survived == 1].groupby('Sex').count()\u001b[0m\u001b[0;34m\u001b[0m\u001b[0;34m\u001b[0m\u001b[0m\n\u001b[1;32m     12\u001b[0m \u001b[0;31m#temp2 = list(survived_by_sex.values.flatten())\u001b[0m\u001b[0;34m\u001b[0m\u001b[0;34m\u001b[0m\u001b[0m\n",
      "\u001b[0;32m/home/koo/anaconda3/lib/python3.6/site-packages/pandas/core/generic.py\u001b[0m in \u001b[0;36m__getattr__\u001b[0;34m(self, name)\u001b[0m\n\u001b[1;32m   2742\u001b[0m             \u001b[0;32mif\u001b[0m \u001b[0mname\u001b[0m \u001b[0;32min\u001b[0m \u001b[0mself\u001b[0m\u001b[0;34m.\u001b[0m\u001b[0m_info_axis\u001b[0m\u001b[0;34m:\u001b[0m\u001b[0;34m\u001b[0m\u001b[0m\n\u001b[1;32m   2743\u001b[0m                 \u001b[0;32mreturn\u001b[0m \u001b[0mself\u001b[0m\u001b[0;34m[\u001b[0m\u001b[0mname\u001b[0m\u001b[0;34m]\u001b[0m\u001b[0;34m\u001b[0m\u001b[0m\n\u001b[0;32m-> 2744\u001b[0;31m             \u001b[0;32mreturn\u001b[0m \u001b[0mobject\u001b[0m\u001b[0;34m.\u001b[0m\u001b[0m__getattribute__\u001b[0m\u001b[0;34m(\u001b[0m\u001b[0mself\u001b[0m\u001b[0;34m,\u001b[0m \u001b[0mname\u001b[0m\u001b[0;34m)\u001b[0m\u001b[0;34m\u001b[0m\u001b[0m\n\u001b[0m\u001b[1;32m   2745\u001b[0m \u001b[0;34m\u001b[0m\u001b[0m\n\u001b[1;32m   2746\u001b[0m     \u001b[0;32mdef\u001b[0m \u001b[0m__setattr__\u001b[0m\u001b[0;34m(\u001b[0m\u001b[0mself\u001b[0m\u001b[0;34m,\u001b[0m \u001b[0mname\u001b[0m\u001b[0;34m,\u001b[0m \u001b[0mvalue\u001b[0m\u001b[0;34m)\u001b[0m\u001b[0;34m:\u001b[0m\u001b[0;34m\u001b[0m\u001b[0m\n",
      "\u001b[0;31mAttributeError\u001b[0m: 'Series' object has no attribute 'Survived'"
     ]
    }
   ],
   "source": [
    "%matplotlib inline\n",
    "\n",
    "#Group the data by the specific column and return the count of the dataset\n",
    "#Make a list based on that new grouped data for plotting\n",
    "age_total_by_range = titanic_age_range_df.values\n",
    "temp1 = list(age_total_by_range.flatten())\n",
    "\n",
    "#Group the data by the specific column and return the count of the filtered dataset\n",
    "#Make a list based on that new grouped data for plotting\n",
    "#age_by_range_survived = titanic_age_range_df[titanic_age_range_df.Survived == 1].count()\n",
    "#survived_by_sex = titanic_sex_df[titanic_sex_df.Survived == 1].groupby('Sex').count()\n",
    "#temp2 = list(survived_by_sex.values.flatten())\n",
    "\n",
    "print(temp1)"
   ]
  },
  {
   "cell_type": "markdown",
   "metadata": {},
   "source": [
    "Onboard - sib"
   ]
  },
  {
   "cell_type": "code",
   "execution_count": 13,
   "metadata": {
    "collapsed": false
   },
   "outputs": [
    {
     "name": "stdout",
     "output_type": "stream",
     "text": [
      "SibSp       891\n",
      "Survived    891\n",
      "dtype: int64\n"
     ]
    }
   ],
   "source": [
    "titanic_sibsp_df = pd.DataFrame({\n",
    "    'SibSp': raw_df['SibSp'].values,\n",
    "    'Survived': raw_df['Survived'].values\n",
    "}, index=raw_df['PassengerId'])\n",
    "\n",
    "#Check the total of rows to match 891 passengers\n",
    "print(titanic_sibsp_df.count())"
   ]
  },
  {
   "cell_type": "markdown",
   "metadata": {},
   "source": [
    "Onboard - parch"
   ]
  },
  {
   "cell_type": "code",
   "execution_count": 14,
   "metadata": {
    "collapsed": false
   },
   "outputs": [
    {
     "name": "stdout",
     "output_type": "stream",
     "text": [
      "Parch       891\n",
      "Survived    891\n",
      "dtype: int64\n"
     ]
    }
   ],
   "source": [
    "titanic_parch_df = pd.DataFrame({\n",
    "    'Parch': raw_df['Parch'].values,\n",
    "    'Survived': raw_df['Survived'].values\n",
    "}, index=raw_df['PassengerId'])\n",
    "\n",
    "#Check the total of rows to match 891 passengers\n",
    "print(titanic_parch_df.count())\n"
   ]
  },
  {
   "cell_type": "code",
   "execution_count": null,
   "metadata": {
    "collapsed": true
   },
   "outputs": [],
   "source": []
  }
 ],
 "metadata": {
  "kernelspec": {
   "display_name": "Python 3",
   "language": "python",
   "name": "python3"
  },
  "language_info": {
   "codemirror_mode": {
    "name": "ipython",
    "version": 3
   },
   "file_extension": ".py",
   "mimetype": "text/x-python",
   "name": "python",
   "nbconvert_exporter": "python",
   "pygments_lexer": "ipython3",
   "version": "3.6.0"
  }
 },
 "nbformat": 4,
 "nbformat_minor": 2
}
